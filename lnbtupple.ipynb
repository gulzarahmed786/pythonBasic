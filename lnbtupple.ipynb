{
 "cells": [
  {
   "cell_type": "code",
   "execution_count": 1,
   "id": "90494747-6bec-40f1-b719-073f980298e1",
   "metadata": {
    "scrolled": true
   },
   "outputs": [
    {
     "name": "stdin",
     "output_type": "stream",
     "text": [
      "Enter between 10 to 20 integers separated by spaces:  11 1 2 3 5 6 4 8 9 7\n"
     ]
    },
    {
     "name": "stdout",
     "output_type": "stream",
     "text": [
      "Binary AND result: 1\n",
      "Binary OR result: 1111\n",
      "Integer AND result: 1\n",
      "Integer OR result: 15\n"
     ]
    }
   ],
   "source": [
    "# lnbtuple.py\n",
    "\n",
    "# Take input from the user as a list of integers (between 10 and 20)\n",
    "user_input = list(map(int, input(\"Enter between 10 to 20 integers separated by spaces: \").split()))\n",
    "\n",
    "# Check if the number of integers is within the allowed range\n",
    "if len(user_input) < 10 or len(user_input) > 20:\n",
    "    print(\"Error: Please enter between 10 and 20 integers.\")\n",
    "else:\n",
    "    # Convert each integer to its binary representation and store it in a tuple\n",
    "    binary_tuples = tuple(bin(num)[2:] for num in user_input)\n",
    "\n",
    "    # Extract the last two binary tuples\n",
    "    last_two_binary = binary_tuples[-2:]\n",
    "\n",
    "    # Perform bitwise AND and OR operations on the last two binary tuples\n",
    "    # Convert binary strings to integers for bitwise operations\n",
    "    and_result = int(last_two_binary[0], 2) & int(last_two_binary[1], 2)\n",
    "    or_result = int(last_two_binary[0], 2) | int(last_two_binary[1], 2)\n",
    "\n",
    "    # Display the binary results of AND and OR\n",
    "    print(\"Binary AND result:\", bin(and_result)[2:])\n",
    "    print(\"Binary OR result:\", bin(or_result)[2:])\n",
    "\n",
    "    # Convert the results back to integers and display\n",
    "    print(\"Integer AND result:\", and_result)\n",
    "    print(\"Integer OR result:\", or_result)\n"
   ]
  },
  {
   "cell_type": "code",
   "execution_count": null,
   "id": "c0e6aeee-82a5-4f03-8d6c-e314d1f1956a",
   "metadata": {},
   "outputs": [],
   "source": []
  }
 ],
 "metadata": {
  "kernelspec": {
   "display_name": "Python 3 (ipykernel)",
   "language": "python",
   "name": "python3"
  },
  "language_info": {
   "codemirror_mode": {
    "name": "ipython",
    "version": 3
   },
   "file_extension": ".py",
   "mimetype": "text/x-python",
   "name": "python",
   "nbconvert_exporter": "python",
   "pygments_lexer": "ipython3",
   "version": "3.10.0"
  }
 },
 "nbformat": 4,
 "nbformat_minor": 5
}
