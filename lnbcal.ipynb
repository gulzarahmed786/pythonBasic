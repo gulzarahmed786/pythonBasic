{
 "cells": [
  {
   "cell_type": "code",
   "execution_count": 3,
   "id": "674e7010-4904-4e6f-b292-cbaa2bb8594c",
   "metadata": {},
   "outputs": [
    {
     "name": "stdin",
     "output_type": "stream",
     "text": [
      "Enter the first integer:  2\n",
      "Enter the second integer:  5\n"
     ]
    },
    {
     "name": "stdout",
     "output_type": "stream",
     "text": [
      "Result: Hello LNB code is running fine !!\n"
     ]
    }
   ],
   "source": [
    "# lnbcal.py\n",
    "\n",
    "#two integer inputs from the user\n",
    "num1 = int(input(\"Enter the first integer: \"))\n",
    "num2 = int(input(\"Enter the second integer: \"))\n",
    "\n",
    "#the product of the two numbers\n",
    "product = num1 * num2\n",
    "\n",
    "#logic based on the product value\n",
    "if product > 500:\n",
    "    result = num1 + num2  # Return sum if product is greater than 500\n",
    "else:\n",
    "    result = \"Hello LNB code is running fine !!\"  # Return message if product is 500 or less\n",
    "\n",
    "# Print the result\n",
    "print(\"Result:\", result)\n"
   ]
  },
  {
   "cell_type": "code",
   "execution_count": null,
   "id": "992de832-44f7-4ca8-a4f8-db26b27ca303",
   "metadata": {},
   "outputs": [],
   "source": []
  }
 ],
 "metadata": {
  "kernelspec": {
   "display_name": "Python 3 (ipykernel)",
   "language": "python",
   "name": "python3"
  },
  "language_info": {
   "codemirror_mode": {
    "name": "ipython",
    "version": 3
   },
   "file_extension": ".py",
   "mimetype": "text/x-python",
   "name": "python",
   "nbconvert_exporter": "python",
   "pygments_lexer": "ipython3",
   "version": "3.10.0"
  }
 },
 "nbformat": 4,
 "nbformat_minor": 5
}
