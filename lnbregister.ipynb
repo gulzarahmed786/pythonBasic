{
 "cells": [
  {
   "cell_type": "code",
   "execution_count": 1,
   "id": "6b9991a3-d654-49b8-86fc-c94758df6dcb",
   "metadata": {},
   "outputs": [
    {
     "ename": "FileNotFoundError",
     "evalue": "[Errno 2] No such file or directory: 'Inbregister.csv'",
     "output_type": "error",
     "traceback": [
      "\u001b[1;31m---------------------------------------------------------------------------\u001b[0m",
      "\u001b[1;31mFileNotFoundError\u001b[0m                         Traceback (most recent call last)",
      "Cell \u001b[1;32mIn[1], line 23\u001b[0m\n\u001b[0;32m     20\u001b[0m unique_entries \u001b[38;5;241m=\u001b[39m {}\n\u001b[0;32m     22\u001b[0m \u001b[38;5;66;03m# Reading the input CSV file\u001b[39;00m\n\u001b[1;32m---> 23\u001b[0m \u001b[38;5;28;01mwith\u001b[39;00m \u001b[38;5;28;43mopen\u001b[39;49m\u001b[43m(\u001b[49m\u001b[38;5;124;43m\"\u001b[39;49m\u001b[38;5;124;43mInbregister.csv\u001b[39;49m\u001b[38;5;124;43m\"\u001b[39;49m\u001b[43m,\u001b[49m\u001b[43m \u001b[49m\u001b[43mmode\u001b[49m\u001b[38;5;241;43m=\u001b[39;49m\u001b[38;5;124;43m\"\u001b[39;49m\u001b[38;5;124;43mr\u001b[39;49m\u001b[38;5;124;43m\"\u001b[39;49m\u001b[43m)\u001b[49m \u001b[38;5;28;01mas\u001b[39;00m file:\n\u001b[0;32m     24\u001b[0m     reader \u001b[38;5;241m=\u001b[39m csv\u001b[38;5;241m.\u001b[39mDictReader(file)\n\u001b[0;32m     25\u001b[0m     rows \u001b[38;5;241m=\u001b[39m \u001b[38;5;28mlist\u001b[39m(reader)\n",
      "File \u001b[1;32m~\\AppData\\Local\\Programs\\Python\\Python310\\lib\\site-packages\\IPython\\core\\interactiveshell.py:324\u001b[0m, in \u001b[0;36m_modified_open\u001b[1;34m(file, *args, **kwargs)\u001b[0m\n\u001b[0;32m    317\u001b[0m \u001b[38;5;28;01mif\u001b[39;00m file \u001b[38;5;129;01min\u001b[39;00m {\u001b[38;5;241m0\u001b[39m, \u001b[38;5;241m1\u001b[39m, \u001b[38;5;241m2\u001b[39m}:\n\u001b[0;32m    318\u001b[0m     \u001b[38;5;28;01mraise\u001b[39;00m \u001b[38;5;167;01mValueError\u001b[39;00m(\n\u001b[0;32m    319\u001b[0m         \u001b[38;5;124mf\u001b[39m\u001b[38;5;124m\"\u001b[39m\u001b[38;5;124mIPython won\u001b[39m\u001b[38;5;124m'\u001b[39m\u001b[38;5;124mt let you open fd=\u001b[39m\u001b[38;5;132;01m{\u001b[39;00mfile\u001b[38;5;132;01m}\u001b[39;00m\u001b[38;5;124m by default \u001b[39m\u001b[38;5;124m\"\u001b[39m\n\u001b[0;32m    320\u001b[0m         \u001b[38;5;124m\"\u001b[39m\u001b[38;5;124mas it is likely to crash IPython. If you know what you are doing, \u001b[39m\u001b[38;5;124m\"\u001b[39m\n\u001b[0;32m    321\u001b[0m         \u001b[38;5;124m\"\u001b[39m\u001b[38;5;124myou can use builtins\u001b[39m\u001b[38;5;124m'\u001b[39m\u001b[38;5;124m open.\u001b[39m\u001b[38;5;124m\"\u001b[39m\n\u001b[0;32m    322\u001b[0m     )\n\u001b[1;32m--> 324\u001b[0m \u001b[38;5;28;01mreturn\u001b[39;00m io_open(file, \u001b[38;5;241m*\u001b[39margs, \u001b[38;5;241m*\u001b[39m\u001b[38;5;241m*\u001b[39mkwargs)\n",
      "\u001b[1;31mFileNotFoundError\u001b[0m: [Errno 2] No such file or directory: 'Inbregister.csv'"
     ]
    }
   ],
   "source": [
    "# Inbregister.py\n",
    "\n",
    "import csv\n",
    "from datetime import datetime\n",
    "\n",
    "# Function to validate ID\n",
    "def is_valid_id(id_value):\n",
    "    return len(id_value) == 10 and id_value[:5].isupper() and id_value[:5].isalpha() and id_value[5:].isdigit()\n",
    "\n",
    "# Function to validate DOB\n",
    "def is_valid_dob(dob_value):\n",
    "    try:\n",
    "        # Attempt to parse DOB in the format YYYY-MM-DD\n",
    "        datetime.strptime(dob_value, \"%Y-%m-%d\")\n",
    "        return True\n",
    "    except ValueError:\n",
    "        return False\n",
    "\n",
    "# Dictionary to hold unique entries with ID-DOB pairs\n",
    "unique_entries = {}\n",
    "\n",
    "# Reading the input CSV file\n",
    "with open(\"Inbregister.csv\", mode=\"r\") as file:\n",
    "    reader = csv.DictReader(file)\n",
    "    rows = list(reader)\n",
    "\n",
    "# Process each row and validate entries\n",
    "for row in rows:\n",
    "    id_value = row[\"ID\"]\n",
    "    dob_value = row[\"DOB\"]\n",
    "    amount = int(row[\"Amount\"])\n",
    "\n",
    "    if is_valid_id(id_value) and is_valid_dob(dob_value):\n",
    "        key = (id_value, dob_value)\n",
    "        if key in unique_entries:\n",
    "            unique_entries[key][\"Amount\"] += amount  # Merge amounts for duplicate ID-DOB pairs\n",
    "        else:\n",
    "            unique_entries[key] = {\"ID\": id_value, \"DOB\": dob_value, \"Amount\": amount, \"Verification\": \"Verified\"}\n",
    "    else:\n",
    "        unique_entries[(id_value, dob_value)] = {\"ID\": id_value, \"DOB\": dob_value, \"Amount\": amount, \"Verification\": \"Invalid\"}\n",
    "\n",
    "# Writing the processed data back to a new CSV file\n",
    "with open(\"Inbregister.csv\", mode=\"w\", newline=\"\") as file:\n",
    "    fieldnames = [\"ID\", \"Amount\", \"DOB\", \"Verification\"]\n",
    "    writer = csv.DictWriter(file, fieldnames=fieldnames)\n",
    "    writer.writeheader()\n",
    "    for entry in unique_entries.values():\n",
    "        writer.writerow(entry)\n",
    "\n",
    "print(\"Processed data has been saved to Inbregister.csv\")\n"
   ]
  },
  {
   "cell_type": "code",
   "execution_count": null,
   "id": "a5e1a444-6f79-4327-8634-dd2b4d3c939c",
   "metadata": {},
   "outputs": [],
   "source": []
  }
 ],
 "metadata": {
  "kernelspec": {
   "display_name": "Python 3 (ipykernel)",
   "language": "python",
   "name": "python3"
  },
  "language_info": {
   "codemirror_mode": {
    "name": "ipython",
    "version": 3
   },
   "file_extension": ".py",
   "mimetype": "text/x-python",
   "name": "python",
   "nbconvert_exporter": "python",
   "pygments_lexer": "ipython3",
   "version": "3.10.0"
  }
 },
 "nbformat": 4,
 "nbformat_minor": 5
}
