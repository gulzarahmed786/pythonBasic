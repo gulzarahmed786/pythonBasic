{
 "cells": [
  {
   "cell_type": "code",
   "execution_count": 1,
   "id": "1f352da7-470f-483f-a58a-6dfc4febb344",
   "metadata": {},
   "outputs": [
    {
     "name": "stdin",
     "output_type": "stream",
     "text": [
      "Enter a string:  google\n"
     ]
    },
    {
     "name": "stdout",
     "output_type": "stream",
     "text": [
      "Result: oge\n"
     ]
    }
   ],
   "source": [
    "# Inbstrindex.py\n",
    "\n",
    "# Taking input from the user in string format\n",
    "user_input = input(\"Enter a string: \")\n",
    "\n",
    "# Calculate the length of the string\n",
    "length_of_string = len(user_input)\n",
    "\n",
    "# Perform operations based on the length of the string\n",
    "if length_of_string > 7:\n",
    "    # Display characters at even index numbers if length is greater than 7\n",
    "    result = user_input[::2]\n",
    "else:\n",
    "    # Display characters at odd index numbers if length is 7 or less\n",
    "    result = user_input[1::2]\n",
    "\n",
    "# Print the result\n",
    "print(\"Result:\", result)\n"
   ]
  },
  {
   "cell_type": "code",
   "execution_count": null,
   "id": "652bc9bb-a8d8-4276-9f8d-764eacbe7505",
   "metadata": {},
   "outputs": [],
   "source": []
  }
 ],
 "metadata": {
  "kernelspec": {
   "display_name": "Python 3 (ipykernel)",
   "language": "python",
   "name": "python3"
  },
  "language_info": {
   "codemirror_mode": {
    "name": "ipython",
    "version": 3
   },
   "file_extension": ".py",
   "mimetype": "text/x-python",
   "name": "python",
   "nbconvert_exporter": "python",
   "pygments_lexer": "ipython3",
   "version": "3.10.0"
  }
 },
 "nbformat": 4,
 "nbformat_minor": 5
}
