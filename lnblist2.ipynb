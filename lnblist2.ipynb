{
 "cells": [
  {
   "cell_type": "code",
   "execution_count": 1,
   "id": "dc7d37b6-0930-4687-b6dc-d70d27205e03",
   "metadata": {},
   "outputs": [
    {
     "name": "stdout",
     "output_type": "stream",
     "text": [
      "L3 = [11, 24, 18, 44, 37]\n"
     ]
    }
   ],
   "source": [
    "# lnblist.py\n",
    "\n",
    "# Given input lists\n",
    "L1 = [11, 21, 24, 12, 18]\n",
    "L2 = [14, 44, 25, 37, 13]\n",
    "\n",
    "# Create L3 by taking items at odd indices from L1 and even indices from L2\n",
    "L3 = L1[::2] + L2[1::2]\n",
    "\n",
    "# Display the result\n",
    "print(\"L3 =\", L3)\n"
   ]
  },
  {
   "cell_type": "code",
   "execution_count": null,
   "id": "c974a724-c82a-4102-9885-2d27476c7b85",
   "metadata": {},
   "outputs": [],
   "source": []
  }
 ],
 "metadata": {
  "kernelspec": {
   "display_name": "Python 3 (ipykernel)",
   "language": "python",
   "name": "python3"
  },
  "language_info": {
   "codemirror_mode": {
    "name": "ipython",
    "version": 3
   },
   "file_extension": ".py",
   "mimetype": "text/x-python",
   "name": "python",
   "nbconvert_exporter": "python",
   "pygments_lexer": "ipython3",
   "version": "3.10.0"
  }
 },
 "nbformat": 4,
 "nbformat_minor": 5
}
