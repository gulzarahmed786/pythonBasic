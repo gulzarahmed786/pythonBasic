{
 "cells": [
  {
   "cell_type": "code",
   "execution_count": 1,
   "id": "1be7e20b-cc11-45d6-a5b1-dfbbc6bf1782",
   "metadata": {},
   "outputs": [
    {
     "name": "stdout",
     "output_type": "stream",
     "text": [
      "Original List: [1, 2, 3, 4, 5, 6, 7, 8, 9, 10, 11, 12, 13, 14, 15, 16, 17, 18, 19, 20]\n",
      "New List (First and Last Five Elements): [1, 2, 3, 4, 5, 16, 17, 18, 19, 20]\n",
      "Squared List: [1, 4, 9, 16, 25, 256, 289, 324, 361, 400]\n",
      "Split List into Parts: [[1, 2], [3, 4, 5], [16, 17, 18, 19, 20]]\n"
     ]
    }
   ],
   "source": [
    "# lnblist.py\n",
    "\n",
    "# Create a list ranging from 1 to 20\n",
    "original_list = list(range(1, 21))\n",
    "\n",
    "# Create a new list with the first and last five elements of the original list\n",
    "new_list = original_list[:5] + original_list[-5:]\n",
    "\n",
    "# Create a list that contains the square of the elements of the new list\n",
    "squared_list = [x ** 2 for x in new_list]\n",
    "\n",
    "# Split the new list into three parts with lengths of 2, 3, and 5\n",
    "split_list = [new_list[:2], new_list[2:5], new_list[5:]]\n",
    "\n",
    "# Display the results\n",
    "print(\"Original List:\", original_list)\n",
    "print(\"New List (First and Last Five Elements):\", new_list)\n",
    "print(\"Squared List:\", squared_list)\n",
    "print(\"Split List into Parts:\", split_list)\n"
   ]
  },
  {
   "cell_type": "code",
   "execution_count": null,
   "id": "6c5dbc14-48a5-40dd-9526-a30277916977",
   "metadata": {},
   "outputs": [],
   "source": []
  }
 ],
 "metadata": {
  "kernelspec": {
   "display_name": "Python 3 (ipykernel)",
   "language": "python",
   "name": "python3"
  },
  "language_info": {
   "codemirror_mode": {
    "name": "ipython",
    "version": 3
   },
   "file_extension": ".py",
   "mimetype": "text/x-python",
   "name": "python",
   "nbconvert_exporter": "python",
   "pygments_lexer": "ipython3",
   "version": "3.10.0"
  }
 },
 "nbformat": 4,
 "nbformat_minor": 5
}
