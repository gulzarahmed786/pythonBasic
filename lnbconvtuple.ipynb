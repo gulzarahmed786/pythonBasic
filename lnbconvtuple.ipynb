{
 "cells": [
  {
   "cell_type": "code",
   "execution_count": 1,
   "id": "99fcae85-4f17-4c12-b3b9-dd19ffbaa298",
   "metadata": {},
   "outputs": [
    {
     "name": "stdin",
     "output_type": "stream",
     "text": [
      "Enter numbers for the tuple separated by commas (e.g., 21,37,18):  6,8,9\n",
      "Enter a string to add after each element:  \\google\n"
     ]
    },
    {
     "name": "stdout",
     "output_type": "stream",
     "text": [
      "Result: (6, '\\\\google', 8, '\\\\google', 9, '\\\\google')\n"
     ]
    }
   ],
   "source": [
    "# lnbconvtuple.py\n",
    "\n",
    "# Taking tuple input from the user\n",
    "user_tuple = tuple(map(int, input(\"Enter numbers for the tuple separated by commas (e.g., 21,37,18): \").split(',')))\n",
    "\n",
    "# Taking string input from the user\n",
    "user_string = input(\"Enter a string to add after each element: \")\n",
    "\n",
    "# Convert the tuple to a list\n",
    "user_list = list(user_tuple)\n",
    "\n",
    "# Insert the string after each element in the list\n",
    "result_list = []\n",
    "for element in user_list:\n",
    "    result_list.append(element)\n",
    "    result_list.append(user_string)\n",
    "\n",
    "# Convert the list back to a tuple\n",
    "result_tuple = tuple(result_list)\n",
    "\n",
    "# Print the final tuple\n",
    "print(\"Result:\", result_tuple)\n"
   ]
  },
  {
   "cell_type": "code",
   "execution_count": null,
   "id": "91073b6a-25e5-4a4b-9780-2938fb14e725",
   "metadata": {},
   "outputs": [],
   "source": []
  }
 ],
 "metadata": {
  "kernelspec": {
   "display_name": "Python 3 (ipykernel)",
   "language": "python",
   "name": "python3"
  },
  "language_info": {
   "codemirror_mode": {
    "name": "ipython",
    "version": 3
   },
   "file_extension": ".py",
   "mimetype": "text/x-python",
   "name": "python",
   "nbconvert_exporter": "python",
   "pygments_lexer": "ipython3",
   "version": "3.10.0"
  }
 },
 "nbformat": 4,
 "nbformat_minor": 5
}
