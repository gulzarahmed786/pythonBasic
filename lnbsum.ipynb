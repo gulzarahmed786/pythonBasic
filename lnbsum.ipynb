{
 "cells": [
  {
   "cell_type": "code",
   "execution_count": 2,
   "id": "904be147-bdd8-4ebc-8ad2-30e0f701a373",
   "metadata": {},
   "outputs": [
    {
     "name": "stdout",
     "output_type": "stream",
     "text": [
      "Enter 5 integers:\n"
     ]
    },
    {
     "name": "stdin",
     "output_type": "stream",
     "text": [
      " 1\n",
      " 5\n",
      " 6\n",
      " 9\n",
      " 8\n"
     ]
    },
    {
     "name": "stdout",
     "output_type": "stream",
     "text": [
      "Sum of numbers greater than or equal to 9: 9\n"
     ]
    }
   ],
   "source": [
    "# lnbsum.py\n",
    "\n",
    "# Take 5 integer inputs from the user\n",
    "user_input = []\n",
    "print(\"Enter 5 integers:\")\n",
    "for _ in range(5):\n",
    "    num = int(input())\n",
    "    user_input.append(num)\n",
    "\n",
    "# Remove all numbers less than 9\n",
    "filtered_numbers = [num for num in user_input if num >= 9]\n",
    "\n",
    "# Calculate the sum of the remaining numbers\n",
    "total_sum = sum(filtered_numbers)\n",
    "\n",
    "# Display the result\n",
    "print(\"Sum of numbers greater than or equal to 9:\", total_sum)\n"
   ]
  },
  {
   "cell_type": "code",
   "execution_count": null,
   "id": "43b62b6a-93dd-4e7c-9e3f-b1d64a94f3d5",
   "metadata": {},
   "outputs": [],
   "source": []
  }
 ],
 "metadata": {
  "kernelspec": {
   "display_name": "Python 3 (ipykernel)",
   "language": "python",
   "name": "python3"
  },
  "language_info": {
   "codemirror_mode": {
    "name": "ipython",
    "version": 3
   },
   "file_extension": ".py",
   "mimetype": "text/x-python",
   "name": "python",
   "nbconvert_exporter": "python",
   "pygments_lexer": "ipython3",
   "version": "3.10.0"
  }
 },
 "nbformat": 4,
 "nbformat_minor": 5
}
